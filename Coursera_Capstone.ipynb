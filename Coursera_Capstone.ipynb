{
    "cells": [
        {
            "cell_type": "markdown",
            "metadata": {
                "collapsed": true
            },
            "source": "# Applied Data Science Capstone - Cousera\n---\n\n## _(this notebook will be used specifically for capstone project)_\n***"
        },
        {
            "cell_type": "code",
            "execution_count": 1,
            "metadata": {},
            "outputs": [],
            "source": "import pandas as pd\nimport numpy as np"
        },
        {
            "cell_type": "code",
            "execution_count": 2,
            "metadata": {},
            "outputs": [
                {
                    "name": "stdout",
                    "output_type": "stream",
                    "text": "Hello Capstone Project Course\n"
                }
            ],
            "source": "print(\"Hello Capstone Project Course\")"
        },
        {
            "cell_type": "markdown",
            "metadata": {},
            "source": "## Segmenting and Clustering Neighborhoods in Toronto - _Part - 2_\n---"
        },
        {
            "cell_type": "code",
            "execution_count": 7,
            "metadata": {},
            "outputs": [
                {
                    "name": "stdout",
                    "output_type": "stream",
                    "text": "Solving environment: done\n\n## Package Plan ##\n\n  environment location: /opt/conda/envs/Python36\n\n  added / updated specs: \n    - beautifulsoup4\n\n\nThe following packages will be downloaded:\n\n    package                    |            build\n    ---------------------------|-----------------\n    openssl-1.1.1g             |       h516909a_0         2.1 MB  conda-forge\n    ca-certificates-2020.4.5.1 |       hecc5488_0         146 KB  conda-forge\n    python_abi-3.6             |          1_cp36m           4 KB  conda-forge\n    certifi-2020.4.5.1         |   py36h9f0ad1d_0         151 KB  conda-forge\n    beautifulsoup4-4.9.0       |   py36h9f0ad1d_0         160 KB  conda-forge\n    ------------------------------------------------------------\n                                           Total:         2.6 MB\n\nThe following NEW packages will be INSTALLED:\n\n    python_abi:      3.6-1_cp36m       conda-forge\n\nThe following packages will be UPDATED:\n\n    beautifulsoup4:  4.7.1-py36_1                  --> 4.9.0-py36h9f0ad1d_0      conda-forge\n    ca-certificates: 2020.1.1-0                    --> 2020.4.5.1-hecc5488_0     conda-forge\n    certifi:         2020.4.5.1-py36_0             --> 2020.4.5.1-py36h9f0ad1d_0 conda-forge\n    openssl:         1.1.1g-h7b6447c_0             --> 1.1.1g-h516909a_0         conda-forge\n\n\nDownloading and Extracting Packages\nopenssl-1.1.1g       | 2.1 MB    | ##################################### | 100% \nca-certificates-2020 | 146 KB    | ##################################### | 100% \npython_abi-3.6       | 4 KB      | ##################################### | 100% \ncertifi-2020.4.5.1   | 151 KB    | ##################################### | 100% \nbeautifulsoup4-4.9.0 | 160 KB    | ##################################### | 100% \nPreparing transaction: done\nVerifying transaction: done\nExecuting transaction: done\n"
                }
            ],
            "source": "#!conda install -c conda-forge beautifulsoup4 --yes"
        },
        {
            "cell_type": "code",
            "execution_count": 1,
            "metadata": {},
            "outputs": [
                {
                    "name": "stdout",
                    "output_type": "stream",
                    "text": "Solving environment: done\n\n## Package Plan ##\n\n  environment location: /opt/conda/envs/Python36\n\n  added / updated specs: \n    - lxml\n\n\nThe following packages will be downloaded:\n\n    package                    |            build\n    ---------------------------|-----------------\n    python_abi-3.6             |          1_cp36m           4 KB  conda-forge\n    certifi-2020.4.5.1         |   py36h9f0ad1d_0         151 KB  conda-forge\n    openssl-1.1.1g             |       h516909a_0         2.1 MB  conda-forge\n    lxml-4.4.1                 |   py36h7ec2d77_0         1.6 MB  conda-forge\n    ca-certificates-2020.4.5.1 |       hecc5488_0         146 KB  conda-forge\n    ------------------------------------------------------------\n                                           Total:         4.0 MB\n\nThe following NEW packages will be INSTALLED:\n\n    python_abi:      3.6-1_cp36m          conda-forge\n\nThe following packages will be UPDATED:\n\n    ca-certificates: 2020.1.1-0                       --> 2020.4.5.1-hecc5488_0     conda-forge\n    certifi:         2020.4.5.1-py36_0                --> 2020.4.5.1-py36h9f0ad1d_0 conda-forge\n    lxml:            4.3.1-py36hefd8a0e_0             --> 4.4.1-py36h7ec2d77_0      conda-forge\n    openssl:         1.1.1g-h7b6447c_0                --> 1.1.1g-h516909a_0         conda-forge\n\n\nDownloading and Extracting Packages\npython_abi-3.6       | 4 KB      | ##################################### | 100% \ncertifi-2020.4.5.1   | 151 KB    | ##################################### | 100% \nopenssl-1.1.1g       | 2.1 MB    | ##################################### | 100% \nlxml-4.4.1           | 1.6 MB    | ##################################### | 100% \nca-certificates-2020 | 146 KB    | ##################################### | 100% \nPreparing transaction: done\nVerifying transaction: done\nExecuting transaction: done\n"
                }
            ],
            "source": "#!conda install -c conda-forge lxml --yes"
        },
        {
            "cell_type": "markdown",
            "metadata": {},
            "source": "### Create BeautifulSoup object for Scraping Webpage"
        },
        {
            "cell_type": "code",
            "execution_count": 3,
            "metadata": {},
            "outputs": [],
            "source": "import requests\nfrom bs4 import BeautifulSoup\n\nurl = 'https://en.wikipedia.org/wiki/List_of_postal_codes_of_Canada:_M'\nr = requests.get(url)\n\nsoup=BeautifulSoup(r.text,'lxml')"
        },
        {
            "cell_type": "markdown",
            "metadata": {},
            "source": "### Scrape the table from Wiki"
        },
        {
            "cell_type": "code",
            "execution_count": 4,
            "metadata": {},
            "outputs": [],
            "source": "match=soup.find('table',class_='wikitable sortable')\n\nA=[]\nB=[]\nC=[]\nrows = match.find_all('tr')\nfor row in rows:\n    cols=row.find_all('td')\n    for i,x in enumerate(cols):\n            if i==0:\n                A.append(x.text.strip())\n            elif i==1:\n                B.append(x.text.strip())\n            else:\n                C.append(x.text.strip())\n    "
        },
        {
            "cell_type": "markdown",
            "metadata": {},
            "source": "### Creating a Dataframe from the scraped data"
        },
        {
            "cell_type": "code",
            "execution_count": 5,
            "metadata": {},
            "outputs": [],
            "source": "#Create a distionary\nDict={'Postal':A,'Borough':B,'Neighborhood':C}\n\n#create a panda Dataframe\nDF=pd.DataFrame(Dict)\n#remove borough with value 'Not assigned'\nDF=DF[DF['Borough']!='Not assigned'].reset_index(drop=True)\n#replace '/' with ',' in the neighborhood string\nDF['Neighborhood']=DF['Neighborhood'].replace(\" / \",\",\",regex=True)"
        },
        {
            "cell_type": "code",
            "execution_count": 6,
            "metadata": {},
            "outputs": [
                {
                    "data": {
                        "text/plain": "(103, 3)"
                    },
                    "execution_count": 6,
                    "metadata": {},
                    "output_type": "execute_result"
                }
            ],
            "source": "DF.shape"
        },
        {
            "cell_type": "markdown",
            "metadata": {},
            "source": "### Get the latitude and the longitude coordinates of each neighborhood"
        },
        {
            "cell_type": "code",
            "execution_count": 22,
            "metadata": {},
            "outputs": [],
            "source": "#import the Geolocation Data\nloc=pd.read_csv('http://cocl.us/Geospatial_data')\n#Merge the Neighborhood data with the Geo-location Data\nDf_loc=pd.merge(DF,loc,left_on='Postal',right_on='Postal Code').drop('Postal Code',axis=1)"
        },
        {
            "cell_type": "code",
            "execution_count": 25,
            "metadata": {},
            "outputs": [
                {
                    "data": {
                        "text/plain": "Index(['Postal', 'Borough', 'Neighborhood', 'Latitude', 'Longitude'], dtype='object')"
                    },
                    "execution_count": 25,
                    "metadata": {},
                    "output_type": "execute_result"
                }
            ],
            "source": "Df_loc.columns"
        },
        {
            "cell_type": "markdown",
            "metadata": {},
            "source": "### Explore and cluster the neighborhoods in Toronto"
        },
        {
            "cell_type": "markdown",
            "metadata": {},
            "source": "#### Define Foursquare credentials"
        },
        {
            "cell_type": "code",
            "execution_count": 28,
            "metadata": {},
            "outputs": [],
            "source": "CLIENT_ID = 'NDCW0CMHZ32LOVQZULUCVGBEKFVL1C4BMOUX2EA30VNGAKZF' # your Foursquare ID\nCLIENT_SECRET = 'I3PMUWTGP5FBBR3VUYJJESOMPHCEO5UK4INUMZCLQMJJWYQX' # your Foursquare Secret\nVERSION = '20200504' # Foursquare API version\nLIMIT=100 #Set Limit\nradius=500 #set radius of search"
        },
        {
            "cell_type": "code",
            "execution_count": 29,
            "metadata": {},
            "outputs": [],
            "source": "def getNearbyVenues(names, latitudes, longitudes, radius=500):\n    \n    venues_list=[]\n    for name, lat, lng in zip(names, latitudes, longitudes):\n        print(name)\n            \n        # create the API request URL\n        url = 'https://api.foursquare.com/v2/venues/explore?&client_id={}&client_secret={}&v={}&ll={},{}&radius={}&limit={}'.format(\n            CLIENT_ID, \n            CLIENT_SECRET, \n            VERSION, \n            lat, \n            lng, \n            radius, \n            LIMIT)\n            \n        # make the GET request\n        results = requests.get(url).json()[\"response\"]['groups'][0]['items']\n        \n        # return only relevant information for each nearby venue\n        venues_list.append([(\n            name, \n            lat, \n            lng, \n            v['venue']['name'], \n            v['venue']['location']['lat'], \n            v['venue']['location']['lng'],  \n            v['venue']['categories'][0]['name']) for v in results])\n\n    nearby_venues = pd.DataFrame([item for venue_list in venues_list for item in venue_list])\n    nearby_venues.columns = ['Neighborhood', \n                  'Neighborhood Latitude', \n                  'Neighborhood Longitude', \n                  'Venue', \n                  'Venue Latitude', \n                  'Venue Longitude', \n                  'Venue Category']\n    \n    return(nearby_venues)"
        },
        {
            "cell_type": "code",
            "execution_count": 30,
            "metadata": {},
            "outputs": [
                {
                    "name": "stdout",
                    "output_type": "stream",
                    "text": "Parkwoods\nVictoria Village\nRegent Park,Harbourfront\nLawrence Manor,Lawrence Heights\nQueen's Park,Ontario Provincial Government\nIslington Avenue\nMalvern,Rouge\nDon Mills\nParkview Hill,Woodbine Gardens\nGarden District,Ryerson\nGlencairn\nWest Deane Park,Princess Gardens,Martin Grove,Islington,Cloverdale\nRouge Hill,Port Union,Highland Creek\nDon Mills\nWoodbine Heights\nSt. James Town\nHumewood-Cedarvale\nEringate,Bloordale Gardens,Old Burnhamthorpe,Markland Wood\nGuildwood,Morningside,West Hill\nThe Beaches\nBerczy Park\nCaledonia-Fairbanks\nWoburn\nLeaside\nCentral Bay Street\nChristie\nCedarbrae\nHillcrest Village\nBathurst Manor,Wilson Heights,Downsview North\nThorncliffe Park\nRichmond,Adelaide,King\nDufferin,Dovercourt Village\nScarborough Village\nFairview,Henry Farm,Oriole\nNorthwood Park,York University\nEast Toronto\nHarbourfront East,Union Station,Toronto Islands\nLittle Portugal,Trinity\nKennedy Park,Ionview,East Birchmount Park\nBayview Village\nDownsview\nThe Danforth West,Riverdale\nToronto Dominion Centre,Design Exchange\nBrockton,Parkdale Village,Exhibition Place\nGolden Mile,Clairlea,Oakridge\nYork Mills,Silver Hills\nDownsview\nIndia Bazaar,The Beaches West\nCommerce Court,Victoria Hotel\nNorth Park,Maple Leaf Park,Upwood Park\nHumber Summit\nCliffside,Cliffcrest,Scarborough Village West\nWillowdale,Newtonbrook\nDownsview\nStudio District\nBedford Park,Lawrence Manor East\nDel Ray,Mount Dennis,Keelsdale and Silverthorn\nHumberlea,Emery\nBirch Cliff,Cliffside West\nWillowdale\nDownsview\nLawrence Park\nRoselawn\nRunnymede,The Junction North\nWeston\nDorset Park,Wexford Heights,Scarborough Town Centre\nYork Mills West\nDavisville North\nForest Hill North & West\nHigh Park,The Junction South\nWestmount\nWexford,Maryvale\nWillowdale\nNorth Toronto West\nThe Annex,North Midtown,Yorkville\nParkdale,Roncesvalles\nCanada Post Gateway Processing Centre\nKingsview Village,St. Phillips,Martin Grove Gardens,Richview Gardens\nAgincourt\nDavisville\nUniversity of Toronto,Harbord\nRunnymede,Swansea\nClarks Corners,Tam O'Shanter,Sullivan\nMoore Park,Summerhill East\nKensington Market,Chinatown,Grange Park\nMilliken,Agincourt North,Steeles East,L'Amoreaux East\nSummerhill West,Rathnelly,South Hill,Forest Hill SE,Deer Park\nCN Tower,King and Spadina,Railway Lands,Harbourfront West,Bathurst Quay,South Niagara,Island airport\nNew Toronto,Mimico South,Humber Bay Shores\nSouth Steeles,Silverstone,Humbergate,Jamestown,Mount Olive,Beaumond Heights,Thistletown,Albion Gardens\nSteeles West,L'Amoreaux West\nRosedale\nStn A PO Boxes\nAlderwood,Long Branch\nNorthwest\nUpper Rouge\nSt. James Town,Cabbagetown\nFirst Canadian Place,Underground city\nThe Kingsway,Montgomery Road ,Old Mill North\nChurch and Wellesley\nBusiness reply mail Processing Centre\nOld Mill South,King's Mill Park,Sunnylea,Humber Bay,Mimico NE,The Queensway East,Royal York South East,Kingsway Park South East\nMimico NW,The Queensway West,South of Bloor,Kingsway Park South West,Royal York South West\n"
                }
            ],
            "source": "toranto_venues = getNearbyVenues(names=Df_loc['Neighborhood'],\n                                   latitudes=Df_loc['Latitude'],\n                                   longitudes=Df_loc['Longitude']\n                                  )\n\n"
        },
        {
            "cell_type": "markdown",
            "metadata": {},
            "source": "### Let's check the size of the resulting dataframe"
        },
        {
            "cell_type": "code",
            "execution_count": 32,
            "metadata": {},
            "outputs": [
                {
                    "data": {
                        "text/plain": "(2133, 7)"
                    },
                    "execution_count": 32,
                    "metadata": {},
                    "output_type": "execute_result"
                }
            ],
            "source": "toranto_venues.shape"
        },
        {
            "cell_type": "code",
            "execution_count": 37,
            "metadata": {},
            "outputs": [
                {
                    "data": {
                        "text/html": "<div>\n<style scoped>\n    .dataframe tbody tr th:only-of-type {\n        vertical-align: middle;\n    }\n\n    .dataframe tbody tr th {\n        vertical-align: top;\n    }\n\n    .dataframe thead th {\n        text-align: right;\n    }\n</style>\n<table border=\"1\" class=\"dataframe\">\n  <thead>\n    <tr style=\"text-align: right;\">\n      <th></th>\n      <th>Neighborhood</th>\n      <th>Neighborhood Latitude</th>\n      <th>Neighborhood Longitude</th>\n      <th>Venue</th>\n      <th>Venue Latitude</th>\n      <th>Venue Longitude</th>\n      <th>Venue Category</th>\n    </tr>\n  </thead>\n  <tbody>\n    <tr>\n      <th>0</th>\n      <td>Parkwoods</td>\n      <td>43.753259</td>\n      <td>-79.329656</td>\n      <td>Brookbanks Park</td>\n      <td>43.751976</td>\n      <td>-79.332140</td>\n      <td>Park</td>\n    </tr>\n    <tr>\n      <th>1</th>\n      <td>Parkwoods</td>\n      <td>43.753259</td>\n      <td>-79.329656</td>\n      <td>Variety Store</td>\n      <td>43.751974</td>\n      <td>-79.333114</td>\n      <td>Food &amp; Drink Shop</td>\n    </tr>\n    <tr>\n      <th>2</th>\n      <td>Victoria Village</td>\n      <td>43.725882</td>\n      <td>-79.315572</td>\n      <td>Victoria Village Arena</td>\n      <td>43.723481</td>\n      <td>-79.315635</td>\n      <td>Hockey Arena</td>\n    </tr>\n    <tr>\n      <th>3</th>\n      <td>Victoria Village</td>\n      <td>43.725882</td>\n      <td>-79.315572</td>\n      <td>Tim Hortons</td>\n      <td>43.725517</td>\n      <td>-79.313103</td>\n      <td>Coffee Shop</td>\n    </tr>\n    <tr>\n      <th>4</th>\n      <td>Victoria Village</td>\n      <td>43.725882</td>\n      <td>-79.315572</td>\n      <td>Portugril</td>\n      <td>43.725819</td>\n      <td>-79.312785</td>\n      <td>Portuguese Restaurant</td>\n    </tr>\n    <tr>\n      <th>5</th>\n      <td>Victoria Village</td>\n      <td>43.725882</td>\n      <td>-79.315572</td>\n      <td>The Frig</td>\n      <td>43.727051</td>\n      <td>-79.317418</td>\n      <td>French Restaurant</td>\n    </tr>\n    <tr>\n      <th>6</th>\n      <td>Victoria Village</td>\n      <td>43.725882</td>\n      <td>-79.315572</td>\n      <td>Eglinton Ave E &amp; Sloane Ave/Bermondsey Rd</td>\n      <td>43.726086</td>\n      <td>-79.313620</td>\n      <td>Intersection</td>\n    </tr>\n    <tr>\n      <th>7</th>\n      <td>Regent Park,Harbourfront</td>\n      <td>43.654260</td>\n      <td>-79.360636</td>\n      <td>Roselle Desserts</td>\n      <td>43.653447</td>\n      <td>-79.362017</td>\n      <td>Bakery</td>\n    </tr>\n    <tr>\n      <th>8</th>\n      <td>Regent Park,Harbourfront</td>\n      <td>43.654260</td>\n      <td>-79.360636</td>\n      <td>Tandem Coffee</td>\n      <td>43.653559</td>\n      <td>-79.361809</td>\n      <td>Coffee Shop</td>\n    </tr>\n    <tr>\n      <th>9</th>\n      <td>Regent Park,Harbourfront</td>\n      <td>43.654260</td>\n      <td>-79.360636</td>\n      <td>Morning Glory Cafe</td>\n      <td>43.653947</td>\n      <td>-79.361149</td>\n      <td>Breakfast Spot</td>\n    </tr>\n    <tr>\n      <th>10</th>\n      <td>Regent Park,Harbourfront</td>\n      <td>43.654260</td>\n      <td>-79.360636</td>\n      <td>Cooper Koo Family YMCA</td>\n      <td>43.653249</td>\n      <td>-79.358008</td>\n      <td>Distribution Center</td>\n    </tr>\n    <tr>\n      <th>11</th>\n      <td>Regent Park,Harbourfront</td>\n      <td>43.654260</td>\n      <td>-79.360636</td>\n      <td>Body Blitz Spa East</td>\n      <td>43.654735</td>\n      <td>-79.359874</td>\n      <td>Spa</td>\n    </tr>\n    <tr>\n      <th>12</th>\n      <td>Regent Park,Harbourfront</td>\n      <td>43.654260</td>\n      <td>-79.360636</td>\n      <td>Impact Kitchen</td>\n      <td>43.656369</td>\n      <td>-79.356980</td>\n      <td>Restaurant</td>\n    </tr>\n    <tr>\n      <th>13</th>\n      <td>Regent Park,Harbourfront</td>\n      <td>43.654260</td>\n      <td>-79.360636</td>\n      <td>Corktown Common</td>\n      <td>43.655618</td>\n      <td>-79.356211</td>\n      <td>Park</td>\n    </tr>\n    <tr>\n      <th>14</th>\n      <td>Regent Park,Harbourfront</td>\n      <td>43.654260</td>\n      <td>-79.360636</td>\n      <td>The Extension Room</td>\n      <td>43.653313</td>\n      <td>-79.359725</td>\n      <td>Gym / Fitness Center</td>\n    </tr>\n    <tr>\n      <th>15</th>\n      <td>Regent Park,Harbourfront</td>\n      <td>43.654260</td>\n      <td>-79.360636</td>\n      <td>The Distillery Historic District</td>\n      <td>43.650244</td>\n      <td>-79.359323</td>\n      <td>Historic Site</td>\n    </tr>\n    <tr>\n      <th>16</th>\n      <td>Regent Park,Harbourfront</td>\n      <td>43.654260</td>\n      <td>-79.360636</td>\n      <td>Figs Breakfast &amp; Lunch</td>\n      <td>43.655675</td>\n      <td>-79.364503</td>\n      <td>Breakfast Spot</td>\n    </tr>\n    <tr>\n      <th>17</th>\n      <td>Regent Park,Harbourfront</td>\n      <td>43.654260</td>\n      <td>-79.360636</td>\n      <td>Distillery Sunday Market</td>\n      <td>43.650075</td>\n      <td>-79.361832</td>\n      <td>Farmers Market</td>\n    </tr>\n    <tr>\n      <th>18</th>\n      <td>Regent Park,Harbourfront</td>\n      <td>43.654260</td>\n      <td>-79.360636</td>\n      <td>SOMA chocolatemaker</td>\n      <td>43.650622</td>\n      <td>-79.358127</td>\n      <td>Chocolate Shop</td>\n    </tr>\n    <tr>\n      <th>19</th>\n      <td>Regent Park,Harbourfront</td>\n      <td>43.654260</td>\n      <td>-79.360636</td>\n      <td>Rooster Coffee</td>\n      <td>43.651900</td>\n      <td>-79.365609</td>\n      <td>Coffee Shop</td>\n    </tr>\n    <tr>\n      <th>20</th>\n      <td>Regent Park,Harbourfront</td>\n      <td>43.654260</td>\n      <td>-79.360636</td>\n      <td>Starbucks</td>\n      <td>43.651613</td>\n      <td>-79.364917</td>\n      <td>Coffee Shop</td>\n    </tr>\n    <tr>\n      <th>21</th>\n      <td>Regent Park,Harbourfront</td>\n      <td>43.654260</td>\n      <td>-79.360636</td>\n      <td>Dominion Pub and Kitchen</td>\n      <td>43.656919</td>\n      <td>-79.358967</td>\n      <td>Pub</td>\n    </tr>\n    <tr>\n      <th>22</th>\n      <td>Regent Park,Harbourfront</td>\n      <td>43.654260</td>\n      <td>-79.360636</td>\n      <td>Arvo</td>\n      <td>43.649963</td>\n      <td>-79.361442</td>\n      <td>Coffee Shop</td>\n    </tr>\n    <tr>\n      <th>23</th>\n      <td>Regent Park,Harbourfront</td>\n      <td>43.654260</td>\n      <td>-79.360636</td>\n      <td>Young Centre for the Performing Arts</td>\n      <td>43.650825</td>\n      <td>-79.357593</td>\n      <td>Performing Arts Venue</td>\n    </tr>\n    <tr>\n      <th>24</th>\n      <td>Regent Park,Harbourfront</td>\n      <td>43.654260</td>\n      <td>-79.360636</td>\n      <td>Underpass Park</td>\n      <td>43.655764</td>\n      <td>-79.354806</td>\n      <td>Park</td>\n    </tr>\n    <tr>\n      <th>25</th>\n      <td>Regent Park,Harbourfront</td>\n      <td>43.654260</td>\n      <td>-79.360636</td>\n      <td>Cacao 70</td>\n      <td>43.650067</td>\n      <td>-79.360723</td>\n      <td>Dessert Shop</td>\n    </tr>\n    <tr>\n      <th>26</th>\n      <td>Regent Park,Harbourfront</td>\n      <td>43.654260</td>\n      <td>-79.360636</td>\n      <td>Sumach Espresso</td>\n      <td>43.658135</td>\n      <td>-79.359515</td>\n      <td>Coffee Shop</td>\n    </tr>\n    <tr>\n      <th>27</th>\n      <td>Regent Park,Harbourfront</td>\n      <td>43.654260</td>\n      <td>-79.360636</td>\n      <td>Brick Street Bakery</td>\n      <td>43.650574</td>\n      <td>-79.359539</td>\n      <td>Bakery</td>\n    </tr>\n    <tr>\n      <th>28</th>\n      <td>Regent Park,Harbourfront</td>\n      <td>43.654260</td>\n      <td>-79.360636</td>\n      <td>Cluny Bistro &amp; Boulangerie</td>\n      <td>43.650565</td>\n      <td>-79.357843</td>\n      <td>French Restaurant</td>\n    </tr>\n    <tr>\n      <th>29</th>\n      <td>Regent Park,Harbourfront</td>\n      <td>43.654260</td>\n      <td>-79.360636</td>\n      <td>Dark Horse Espresso Bar</td>\n      <td>43.653081</td>\n      <td>-79.357078</td>\n      <td>Coffee Shop</td>\n    </tr>\n    <tr>\n      <th>...</th>\n      <td>...</td>\n      <td>...</td>\n      <td>...</td>\n      <td>...</td>\n      <td>...</td>\n      <td>...</td>\n      <td>...</td>\n    </tr>\n    <tr>\n      <th>2103</th>\n      <td>Business reply mail Processing Centre</td>\n      <td>43.662744</td>\n      <td>-79.321558</td>\n      <td>The Sidekick</td>\n      <td>43.664484</td>\n      <td>-79.325162</td>\n      <td>Comic Shop</td>\n    </tr>\n    <tr>\n      <th>2104</th>\n      <td>Business reply mail Processing Centre</td>\n      <td>43.662744</td>\n      <td>-79.321558</td>\n      <td>Chino Locos</td>\n      <td>43.664653</td>\n      <td>-79.325584</td>\n      <td>Burrito Place</td>\n    </tr>\n    <tr>\n      <th>2105</th>\n      <td>Business reply mail Processing Centre</td>\n      <td>43.662744</td>\n      <td>-79.321558</td>\n      <td>Queen Margherita Pizza</td>\n      <td>43.664685</td>\n      <td>-79.324164</td>\n      <td>Pizza Place</td>\n    </tr>\n    <tr>\n      <th>2106</th>\n      <td>Business reply mail Processing Centre</td>\n      <td>43.662744</td>\n      <td>-79.321558</td>\n      <td>Chick-n-Joy</td>\n      <td>43.665181</td>\n      <td>-79.321403</td>\n      <td>Fast Food Restaurant</td>\n    </tr>\n    <tr>\n      <th>2107</th>\n      <td>Business reply mail Processing Centre</td>\n      <td>43.662744</td>\n      <td>-79.321558</td>\n      <td>The Green Wood</td>\n      <td>43.664728</td>\n      <td>-79.324117</td>\n      <td>Restaurant</td>\n    </tr>\n    <tr>\n      <th>2108</th>\n      <td>Business reply mail Processing Centre</td>\n      <td>43.662744</td>\n      <td>-79.321558</td>\n      <td>Ashbridges Bay Skatepark</td>\n      <td>43.662548</td>\n      <td>-79.315631</td>\n      <td>Skate Park</td>\n    </tr>\n    <tr>\n      <th>2109</th>\n      <td>Business reply mail Processing Centre</td>\n      <td>43.662744</td>\n      <td>-79.321558</td>\n      <td>East End Garden Centre &amp; Hardware</td>\n      <td>43.664564</td>\n      <td>-79.324471</td>\n      <td>Garden Center</td>\n    </tr>\n    <tr>\n      <th>2110</th>\n      <td>Business reply mail Processing Centre</td>\n      <td>43.662744</td>\n      <td>-79.321558</td>\n      <td>Amin Car Repair Garage</td>\n      <td>43.663544</td>\n      <td>-79.320130</td>\n      <td>Auto Workshop</td>\n    </tr>\n    <tr>\n      <th>2111</th>\n      <td>Business reply mail Processing Centre</td>\n      <td>43.662744</td>\n      <td>-79.321558</td>\n      <td>The Ashbridge Estate</td>\n      <td>43.664691</td>\n      <td>-79.321805</td>\n      <td>Garden</td>\n    </tr>\n    <tr>\n      <th>2112</th>\n      <td>Business reply mail Processing Centre</td>\n      <td>43.662744</td>\n      <td>-79.321558</td>\n      <td>TTC Russell Division</td>\n      <td>43.664908</td>\n      <td>-79.322560</td>\n      <td>Light Rail Station</td>\n    </tr>\n    <tr>\n      <th>2113</th>\n      <td>Business reply mail Processing Centre</td>\n      <td>43.662744</td>\n      <td>-79.321558</td>\n      <td>Jonathan Ashbridge Park</td>\n      <td>43.664702</td>\n      <td>-79.319898</td>\n      <td>Park</td>\n    </tr>\n    <tr>\n      <th>2114</th>\n      <td>Business reply mail Processing Centre</td>\n      <td>43.662744</td>\n      <td>-79.321558</td>\n      <td>The Ten Spot</td>\n      <td>43.664815</td>\n      <td>-79.324213</td>\n      <td>Spa</td>\n    </tr>\n    <tr>\n      <th>2115</th>\n      <td>Business reply mail Processing Centre</td>\n      <td>43.662744</td>\n      <td>-79.321558</td>\n      <td>Greenwood Cigar &amp; Variety</td>\n      <td>43.664538</td>\n      <td>-79.325379</td>\n      <td>Smoke Shop</td>\n    </tr>\n    <tr>\n      <th>2116</th>\n      <td>Old Mill South,King's Mill Park,Sunnylea,Humbe...</td>\n      <td>43.636258</td>\n      <td>-79.498509</td>\n      <td>Eggsmart</td>\n      <td>43.638400</td>\n      <td>-79.499430</td>\n      <td>Breakfast Spot</td>\n    </tr>\n    <tr>\n      <th>2117</th>\n      <td>Old Mill South,King's Mill Park,Sunnylea,Humbe...</td>\n      <td>43.636258</td>\n      <td>-79.498509</td>\n      <td>Woodford Park</td>\n      <td>43.633152</td>\n      <td>-79.496266</td>\n      <td>Baseball Field</td>\n    </tr>\n    <tr>\n      <th>2118</th>\n      <td>Old Mill South,King's Mill Park,Sunnylea,Humbe...</td>\n      <td>43.636258</td>\n      <td>-79.498509</td>\n      <td>Robar Hardwood Flooring</td>\n      <td>43.636417</td>\n      <td>-79.493101</td>\n      <td>Home Service</td>\n    </tr>\n    <tr>\n      <th>2119</th>\n      <td>Mimico NW,The Queensway West,South of Bloor,Ki...</td>\n      <td>43.628841</td>\n      <td>-79.520999</td>\n      <td>South St. Burger</td>\n      <td>43.631314</td>\n      <td>-79.518408</td>\n      <td>Burger Joint</td>\n    </tr>\n    <tr>\n      <th>2120</th>\n      <td>Mimico NW,The Queensway West,South of Bloor,Ki...</td>\n      <td>43.628841</td>\n      <td>-79.520999</td>\n      <td>Wingporium</td>\n      <td>43.630275</td>\n      <td>-79.518169</td>\n      <td>Wings Joint</td>\n    </tr>\n    <tr>\n      <th>2121</th>\n      <td>Mimico NW,The Queensway West,South of Bloor,Ki...</td>\n      <td>43.628841</td>\n      <td>-79.520999</td>\n      <td>Dollarama</td>\n      <td>43.629883</td>\n      <td>-79.518627</td>\n      <td>Discount Store</td>\n    </tr>\n    <tr>\n      <th>2122</th>\n      <td>Mimico NW,The Queensway West,South of Bloor,Ki...</td>\n      <td>43.628841</td>\n      <td>-79.520999</td>\n      <td>Healthy Planet</td>\n      <td>43.630214</td>\n      <td>-79.518495</td>\n      <td>Supplement Shop</td>\n    </tr>\n    <tr>\n      <th>2123</th>\n      <td>Mimico NW,The Queensway West,South of Bloor,Ki...</td>\n      <td>43.628841</td>\n      <td>-79.520999</td>\n      <td>Artisano Bakery Caf\u00e9</td>\n      <td>43.631006</td>\n      <td>-79.518172</td>\n      <td>Bakery</td>\n    </tr>\n    <tr>\n      <th>2124</th>\n      <td>Mimico NW,The Queensway West,South of Bloor,Ki...</td>\n      <td>43.628841</td>\n      <td>-79.520999</td>\n      <td>McDonald's</td>\n      <td>43.630002</td>\n      <td>-79.518198</td>\n      <td>Fast Food Restaurant</td>\n    </tr>\n    <tr>\n      <th>2125</th>\n      <td>Mimico NW,The Queensway West,South of Bloor,Ki...</td>\n      <td>43.628841</td>\n      <td>-79.520999</td>\n      <td>Subway</td>\n      <td>43.631659</td>\n      <td>-79.519001</td>\n      <td>Sandwich Place</td>\n    </tr>\n    <tr>\n      <th>2126</th>\n      <td>Mimico NW,The Queensway West,South of Bloor,Ki...</td>\n      <td>43.628841</td>\n      <td>-79.520999</td>\n      <td>RONA</td>\n      <td>43.629393</td>\n      <td>-79.518320</td>\n      <td>Hardware Store</td>\n    </tr>\n    <tr>\n      <th>2127</th>\n      <td>Mimico NW,The Queensway West,South of Bloor,Ki...</td>\n      <td>43.628841</td>\n      <td>-79.520999</td>\n      <td>7-Eleven</td>\n      <td>43.629107</td>\n      <td>-79.517431</td>\n      <td>Convenience Store</td>\n    </tr>\n    <tr>\n      <th>2128</th>\n      <td>Mimico NW,The Queensway West,South of Bloor,Ki...</td>\n      <td>43.628841</td>\n      <td>-79.520999</td>\n      <td>Jim &amp; Maria's No Frills</td>\n      <td>43.631152</td>\n      <td>-79.518617</td>\n      <td>Grocery Store</td>\n    </tr>\n    <tr>\n      <th>2129</th>\n      <td>Mimico NW,The Queensway West,South of Bloor,Ki...</td>\n      <td>43.628841</td>\n      <td>-79.520999</td>\n      <td>Koala Tan Tanning Salon &amp; Sunless Spa</td>\n      <td>43.631370</td>\n      <td>-79.519006</td>\n      <td>Tanning Salon</td>\n    </tr>\n    <tr>\n      <th>2130</th>\n      <td>Mimico NW,The Queensway West,South of Bloor,Ki...</td>\n      <td>43.628841</td>\n      <td>-79.520999</td>\n      <td>Once Upon A Child</td>\n      <td>43.631075</td>\n      <td>-79.518290</td>\n      <td>Kids Store</td>\n    </tr>\n    <tr>\n      <th>2131</th>\n      <td>Mimico NW,The Queensway West,South of Bloor,Ki...</td>\n      <td>43.628841</td>\n      <td>-79.520999</td>\n      <td>Kingsway Boxing Club</td>\n      <td>43.627254</td>\n      <td>-79.526684</td>\n      <td>Gym</td>\n    </tr>\n    <tr>\n      <th>2132</th>\n      <td>Mimico NW,The Queensway West,South of Bloor,Ki...</td>\n      <td>43.628841</td>\n      <td>-79.520999</td>\n      <td>Burrito Boyz</td>\n      <td>43.626657</td>\n      <td>-79.526349</td>\n      <td>Burrito Place</td>\n    </tr>\n  </tbody>\n</table>\n<p>2133 rows \u00d7 7 columns</p>\n</div>",
                        "text/plain": "                                           Neighborhood  \\\n0                                             Parkwoods   \n1                                             Parkwoods   \n2                                      Victoria Village   \n3                                      Victoria Village   \n4                                      Victoria Village   \n5                                      Victoria Village   \n6                                      Victoria Village   \n7                              Regent Park,Harbourfront   \n8                              Regent Park,Harbourfront   \n9                              Regent Park,Harbourfront   \n10                             Regent Park,Harbourfront   \n11                             Regent Park,Harbourfront   \n12                             Regent Park,Harbourfront   \n13                             Regent Park,Harbourfront   \n14                             Regent Park,Harbourfront   \n15                             Regent Park,Harbourfront   \n16                             Regent Park,Harbourfront   \n17                             Regent Park,Harbourfront   \n18                             Regent Park,Harbourfront   \n19                             Regent Park,Harbourfront   \n20                             Regent Park,Harbourfront   \n21                             Regent Park,Harbourfront   \n22                             Regent Park,Harbourfront   \n23                             Regent Park,Harbourfront   \n24                             Regent Park,Harbourfront   \n25                             Regent Park,Harbourfront   \n26                             Regent Park,Harbourfront   \n27                             Regent Park,Harbourfront   \n28                             Regent Park,Harbourfront   \n29                             Regent Park,Harbourfront   \n...                                                 ...   \n2103              Business reply mail Processing Centre   \n2104              Business reply mail Processing Centre   \n2105              Business reply mail Processing Centre   \n2106              Business reply mail Processing Centre   \n2107              Business reply mail Processing Centre   \n2108              Business reply mail Processing Centre   \n2109              Business reply mail Processing Centre   \n2110              Business reply mail Processing Centre   \n2111              Business reply mail Processing Centre   \n2112              Business reply mail Processing Centre   \n2113              Business reply mail Processing Centre   \n2114              Business reply mail Processing Centre   \n2115              Business reply mail Processing Centre   \n2116  Old Mill South,King's Mill Park,Sunnylea,Humbe...   \n2117  Old Mill South,King's Mill Park,Sunnylea,Humbe...   \n2118  Old Mill South,King's Mill Park,Sunnylea,Humbe...   \n2119  Mimico NW,The Queensway West,South of Bloor,Ki...   \n2120  Mimico NW,The Queensway West,South of Bloor,Ki...   \n2121  Mimico NW,The Queensway West,South of Bloor,Ki...   \n2122  Mimico NW,The Queensway West,South of Bloor,Ki...   \n2123  Mimico NW,The Queensway West,South of Bloor,Ki...   \n2124  Mimico NW,The Queensway West,South of Bloor,Ki...   \n2125  Mimico NW,The Queensway West,South of Bloor,Ki...   \n2126  Mimico NW,The Queensway West,South of Bloor,Ki...   \n2127  Mimico NW,The Queensway West,South of Bloor,Ki...   \n2128  Mimico NW,The Queensway West,South of Bloor,Ki...   \n2129  Mimico NW,The Queensway West,South of Bloor,Ki...   \n2130  Mimico NW,The Queensway West,South of Bloor,Ki...   \n2131  Mimico NW,The Queensway West,South of Bloor,Ki...   \n2132  Mimico NW,The Queensway West,South of Bloor,Ki...   \n\n      Neighborhood Latitude  Neighborhood Longitude  \\\n0                 43.753259              -79.329656   \n1                 43.753259              -79.329656   \n2                 43.725882              -79.315572   \n3                 43.725882              -79.315572   \n4                 43.725882              -79.315572   \n5                 43.725882              -79.315572   \n6                 43.725882              -79.315572   \n7                 43.654260              -79.360636   \n8                 43.654260              -79.360636   \n9                 43.654260              -79.360636   \n10                43.654260              -79.360636   \n11                43.654260              -79.360636   \n12                43.654260              -79.360636   \n13                43.654260              -79.360636   \n14                43.654260              -79.360636   \n15                43.654260              -79.360636   \n16                43.654260              -79.360636   \n17                43.654260              -79.360636   \n18                43.654260              -79.360636   \n19                43.654260              -79.360636   \n20                43.654260              -79.360636   \n21                43.654260              -79.360636   \n22                43.654260              -79.360636   \n23                43.654260              -79.360636   \n24                43.654260              -79.360636   \n25                43.654260              -79.360636   \n26                43.654260              -79.360636   \n27                43.654260              -79.360636   \n28                43.654260              -79.360636   \n29                43.654260              -79.360636   \n...                     ...                     ...   \n2103              43.662744              -79.321558   \n2104              43.662744              -79.321558   \n2105              43.662744              -79.321558   \n2106              43.662744              -79.321558   \n2107              43.662744              -79.321558   \n2108              43.662744              -79.321558   \n2109              43.662744              -79.321558   \n2110              43.662744              -79.321558   \n2111              43.662744              -79.321558   \n2112              43.662744              -79.321558   \n2113              43.662744              -79.321558   \n2114              43.662744              -79.321558   \n2115              43.662744              -79.321558   \n2116              43.636258              -79.498509   \n2117              43.636258              -79.498509   \n2118              43.636258              -79.498509   \n2119              43.628841              -79.520999   \n2120              43.628841              -79.520999   \n2121              43.628841              -79.520999   \n2122              43.628841              -79.520999   \n2123              43.628841              -79.520999   \n2124              43.628841              -79.520999   \n2125              43.628841              -79.520999   \n2126              43.628841              -79.520999   \n2127              43.628841              -79.520999   \n2128              43.628841              -79.520999   \n2129              43.628841              -79.520999   \n2130              43.628841              -79.520999   \n2131              43.628841              -79.520999   \n2132              43.628841              -79.520999   \n\n                                          Venue  Venue Latitude  \\\n0                               Brookbanks Park       43.751976   \n1                                 Variety Store       43.751974   \n2                        Victoria Village Arena       43.723481   \n3                                   Tim Hortons       43.725517   \n4                                     Portugril       43.725819   \n5                                      The Frig       43.727051   \n6     Eglinton Ave E & Sloane Ave/Bermondsey Rd       43.726086   \n7                              Roselle Desserts       43.653447   \n8                                 Tandem Coffee       43.653559   \n9                            Morning Glory Cafe       43.653947   \n10                       Cooper Koo Family YMCA       43.653249   \n11                          Body Blitz Spa East       43.654735   \n12                               Impact Kitchen       43.656369   \n13                              Corktown Common       43.655618   \n14                           The Extension Room       43.653313   \n15             The Distillery Historic District       43.650244   \n16                       Figs Breakfast & Lunch       43.655675   \n17                     Distillery Sunday Market       43.650075   \n18                          SOMA chocolatemaker       43.650622   \n19                               Rooster Coffee       43.651900   \n20                                    Starbucks       43.651613   \n21                     Dominion Pub and Kitchen       43.656919   \n22                                         Arvo       43.649963   \n23         Young Centre for the Performing Arts       43.650825   \n24                               Underpass Park       43.655764   \n25                                     Cacao 70       43.650067   \n26                              Sumach Espresso       43.658135   \n27                          Brick Street Bakery       43.650574   \n28                   Cluny Bistro & Boulangerie       43.650565   \n29                      Dark Horse Espresso Bar       43.653081   \n...                                         ...             ...   \n2103                               The Sidekick       43.664484   \n2104                                Chino Locos       43.664653   \n2105                     Queen Margherita Pizza       43.664685   \n2106                                Chick-n-Joy       43.665181   \n2107                             The Green Wood       43.664728   \n2108                   Ashbridges Bay Skatepark       43.662548   \n2109          East End Garden Centre & Hardware       43.664564   \n2110                     Amin Car Repair Garage       43.663544   \n2111                       The Ashbridge Estate       43.664691   \n2112                       TTC Russell Division       43.664908   \n2113                    Jonathan Ashbridge Park       43.664702   \n2114                               The Ten Spot       43.664815   \n2115                  Greenwood Cigar & Variety       43.664538   \n2116                                   Eggsmart       43.638400   \n2117                              Woodford Park       43.633152   \n2118                    Robar Hardwood Flooring       43.636417   \n2119                           South St. Burger       43.631314   \n2120                                 Wingporium       43.630275   \n2121                                  Dollarama       43.629883   \n2122                             Healthy Planet       43.630214   \n2123                       Artisano Bakery Caf\u00e9       43.631006   \n2124                                 McDonald's       43.630002   \n2125                                     Subway       43.631659   \n2126                                       RONA       43.629393   \n2127                                   7-Eleven       43.629107   \n2128                    Jim & Maria's No Frills       43.631152   \n2129      Koala Tan Tanning Salon & Sunless Spa       43.631370   \n2130                          Once Upon A Child       43.631075   \n2131                       Kingsway Boxing Club       43.627254   \n2132                               Burrito Boyz       43.626657   \n\n      Venue Longitude         Venue Category  \n0          -79.332140                   Park  \n1          -79.333114      Food & Drink Shop  \n2          -79.315635           Hockey Arena  \n3          -79.313103            Coffee Shop  \n4          -79.312785  Portuguese Restaurant  \n5          -79.317418      French Restaurant  \n6          -79.313620           Intersection  \n7          -79.362017                 Bakery  \n8          -79.361809            Coffee Shop  \n9          -79.361149         Breakfast Spot  \n10         -79.358008    Distribution Center  \n11         -79.359874                    Spa  \n12         -79.356980             Restaurant  \n13         -79.356211                   Park  \n14         -79.359725   Gym / Fitness Center  \n15         -79.359323          Historic Site  \n16         -79.364503         Breakfast Spot  \n17         -79.361832         Farmers Market  \n18         -79.358127         Chocolate Shop  \n19         -79.365609            Coffee Shop  \n20         -79.364917            Coffee Shop  \n21         -79.358967                    Pub  \n22         -79.361442            Coffee Shop  \n23         -79.357593  Performing Arts Venue  \n24         -79.354806                   Park  \n25         -79.360723           Dessert Shop  \n26         -79.359515            Coffee Shop  \n27         -79.359539                 Bakery  \n28         -79.357843      French Restaurant  \n29         -79.357078            Coffee Shop  \n...               ...                    ...  \n2103       -79.325162             Comic Shop  \n2104       -79.325584          Burrito Place  \n2105       -79.324164            Pizza Place  \n2106       -79.321403   Fast Food Restaurant  \n2107       -79.324117             Restaurant  \n2108       -79.315631             Skate Park  \n2109       -79.324471          Garden Center  \n2110       -79.320130          Auto Workshop  \n2111       -79.321805                 Garden  \n2112       -79.322560     Light Rail Station  \n2113       -79.319898                   Park  \n2114       -79.324213                    Spa  \n2115       -79.325379             Smoke Shop  \n2116       -79.499430         Breakfast Spot  \n2117       -79.496266         Baseball Field  \n2118       -79.493101           Home Service  \n2119       -79.518408           Burger Joint  \n2120       -79.518169            Wings Joint  \n2121       -79.518627         Discount Store  \n2122       -79.518495        Supplement Shop  \n2123       -79.518172                 Bakery  \n2124       -79.518198   Fast Food Restaurant  \n2125       -79.519001         Sandwich Place  \n2126       -79.518320         Hardware Store  \n2127       -79.517431      Convenience Store  \n2128       -79.518617          Grocery Store  \n2129       -79.519006          Tanning Salon  \n2130       -79.518290             Kids Store  \n2131       -79.526684                    Gym  \n2132       -79.526349          Burrito Place  \n\n[2133 rows x 7 columns]"
                    },
                    "execution_count": 37,
                    "metadata": {},
                    "output_type": "execute_result"
                }
            ],
            "source": "toranto_venues"
        },
        {
            "cell_type": "markdown",
            "metadata": {},
            "source": "### Analyze Each Neighborhood"
        },
        {
            "cell_type": "code",
            "execution_count": 35,
            "metadata": {},
            "outputs": [
                {
                    "data": {
                        "text/html": "<div>\n<style scoped>\n    .dataframe tbody tr th:only-of-type {\n        vertical-align: middle;\n    }\n\n    .dataframe tbody tr th {\n        vertical-align: top;\n    }\n\n    .dataframe thead th {\n        text-align: right;\n    }\n</style>\n<table border=\"1\" class=\"dataframe\">\n  <thead>\n    <tr style=\"text-align: right;\">\n      <th></th>\n      <th>Yoga Studio</th>\n      <th>Accessories Store</th>\n      <th>Airport</th>\n      <th>Airport Food Court</th>\n      <th>Airport Gate</th>\n      <th>Airport Lounge</th>\n      <th>Airport Service</th>\n      <th>Airport Terminal</th>\n      <th>American Restaurant</th>\n      <th>Antique Shop</th>\n      <th>...</th>\n      <th>Turkish Restaurant</th>\n      <th>Vegetarian / Vegan Restaurant</th>\n      <th>Video Game Store</th>\n      <th>Video Store</th>\n      <th>Vietnamese Restaurant</th>\n      <th>Warehouse Store</th>\n      <th>Wine Bar</th>\n      <th>Wine Shop</th>\n      <th>Wings Joint</th>\n      <th>Women's Store</th>\n    </tr>\n  </thead>\n  <tbody>\n    <tr>\n      <th>0</th>\n      <td>0</td>\n      <td>0</td>\n      <td>0</td>\n      <td>0</td>\n      <td>0</td>\n      <td>0</td>\n      <td>0</td>\n      <td>0</td>\n      <td>0</td>\n      <td>0</td>\n      <td>...</td>\n      <td>0</td>\n      <td>0</td>\n      <td>0</td>\n      <td>0</td>\n      <td>0</td>\n      <td>0</td>\n      <td>0</td>\n      <td>0</td>\n      <td>0</td>\n      <td>0</td>\n    </tr>\n    <tr>\n      <th>1</th>\n      <td>0</td>\n      <td>0</td>\n      <td>0</td>\n      <td>0</td>\n      <td>0</td>\n      <td>0</td>\n      <td>0</td>\n      <td>0</td>\n      <td>0</td>\n      <td>0</td>\n      <td>...</td>\n      <td>0</td>\n      <td>0</td>\n      <td>0</td>\n      <td>0</td>\n      <td>0</td>\n      <td>0</td>\n      <td>0</td>\n      <td>0</td>\n      <td>0</td>\n      <td>0</td>\n    </tr>\n    <tr>\n      <th>2</th>\n      <td>0</td>\n      <td>0</td>\n      <td>0</td>\n      <td>0</td>\n      <td>0</td>\n      <td>0</td>\n      <td>0</td>\n      <td>0</td>\n      <td>0</td>\n      <td>0</td>\n      <td>...</td>\n      <td>0</td>\n      <td>0</td>\n      <td>0</td>\n      <td>0</td>\n      <td>0</td>\n      <td>0</td>\n      <td>0</td>\n      <td>0</td>\n      <td>0</td>\n      <td>0</td>\n    </tr>\n    <tr>\n      <th>3</th>\n      <td>0</td>\n      <td>0</td>\n      <td>0</td>\n      <td>0</td>\n      <td>0</td>\n      <td>0</td>\n      <td>0</td>\n      <td>0</td>\n      <td>0</td>\n      <td>0</td>\n      <td>...</td>\n      <td>0</td>\n      <td>0</td>\n      <td>0</td>\n      <td>0</td>\n      <td>0</td>\n      <td>0</td>\n      <td>0</td>\n      <td>0</td>\n      <td>0</td>\n      <td>0</td>\n    </tr>\n    <tr>\n      <th>4</th>\n      <td>0</td>\n      <td>0</td>\n      <td>0</td>\n      <td>0</td>\n      <td>0</td>\n      <td>0</td>\n      <td>0</td>\n      <td>0</td>\n      <td>0</td>\n      <td>0</td>\n      <td>...</td>\n      <td>0</td>\n      <td>0</td>\n      <td>0</td>\n      <td>0</td>\n      <td>0</td>\n      <td>0</td>\n      <td>0</td>\n      <td>0</td>\n      <td>0</td>\n      <td>0</td>\n    </tr>\n  </tbody>\n</table>\n<p>5 rows \u00d7 269 columns</p>\n</div>",
                        "text/plain": "   Yoga Studio  Accessories Store  Airport  Airport Food Court  Airport Gate  \\\n0            0                  0        0                   0             0   \n1            0                  0        0                   0             0   \n2            0                  0        0                   0             0   \n3            0                  0        0                   0             0   \n4            0                  0        0                   0             0   \n\n   Airport Lounge  Airport Service  Airport Terminal  American Restaurant  \\\n0               0                0                 0                    0   \n1               0                0                 0                    0   \n2               0                0                 0                    0   \n3               0                0                 0                    0   \n4               0                0                 0                    0   \n\n   Antique Shop  ...  Turkish Restaurant  Vegetarian / Vegan Restaurant  \\\n0             0  ...                   0                              0   \n1             0  ...                   0                              0   \n2             0  ...                   0                              0   \n3             0  ...                   0                              0   \n4             0  ...                   0                              0   \n\n   Video Game Store  Video Store  Vietnamese Restaurant  Warehouse Store  \\\n0                 0            0                      0                0   \n1                 0            0                      0                0   \n2                 0            0                      0                0   \n3                 0            0                      0                0   \n4                 0            0                      0                0   \n\n   Wine Bar  Wine Shop  Wings Joint  Women's Store  \n0         0          0            0              0  \n1         0          0            0              0  \n2         0          0            0              0  \n3         0          0            0              0  \n4         0          0            0              0  \n\n[5 rows x 269 columns]"
                    },
                    "execution_count": 35,
                    "metadata": {},
                    "output_type": "execute_result"
                }
            ],
            "source": "# one hot encoding\ntoranto_onehot = pd.get_dummies(toranto_venues[['Venue Category']], prefix=\"\", prefix_sep=\"\")\n\n# add neighborhood column back to dataframe\ntoranto_onehot['Neighborhood'] = toranto_venues['Neighborhood'] \n\n# move neighborhood column to the first column\nfixed_columns = [toranto_onehot.columns[-1]] + list(toranto_onehot.columns[:-1])\ntoranto_onehot = toranto_onehot[fixed_columns]"
        },
        {
            "cell_type": "markdown",
            "metadata": {},
            "source": "### Let's confirm the new size"
        },
        {
            "cell_type": "code",
            "execution_count": 42,
            "metadata": {},
            "outputs": [
                {
                    "data": {
                        "text/plain": "(93, 269)"
                    },
                    "execution_count": 42,
                    "metadata": {},
                    "output_type": "execute_result"
                }
            ],
            "source": "toranto_grouped = toranto_onehot.groupby('Neighborhood').mean().reset_index()\ntoranto_grouped.shape"
        },
        {
            "cell_type": "markdown",
            "metadata": {},
            "source": "### Let's print each neighborhood along with the top 10 most common venues"
        },
        {
            "cell_type": "code",
            "execution_count": 43,
            "metadata": {},
            "outputs": [],
            "source": "def return_most_common_venues(row, num_top_venues):\n    row_categories = row.iloc[1:]\n    row_categories_sorted = row_categories.sort_values(ascending=False)\n    \n    return row_categories_sorted.index.values[0:num_top_venues]"
        },
        {
            "cell_type": "code",
            "execution_count": 44,
            "metadata": {},
            "outputs": [],
            "source": "num_top_venues = 10\n\nindicators = ['st', 'nd', 'rd']\n\n# create columns according to number of top venues\ncolumns = ['Neighborhood']\nfor ind in np.arange(num_top_venues):\n    try:\n        columns.append('{}{} Most Common Venue'.format(ind+1, indicators[ind]))\n    except:\n        columns.append('{}th Most Common Venue'.format(ind+1))\n\n# create a new dataframe\nneighborhoods_venues_sorted = pd.DataFrame(columns=columns)\nneighborhoods_venues_sorted['Neighborhood'] = toranto_grouped['Neighborhood']\n\nfor ind in np.arange(toranto_grouped.shape[0]):\n    neighborhoods_venues_sorted.iloc[ind, 1:] = return_most_common_venues(toranto_grouped.iloc[ind, :], num_top_venues)"
        },
        {
            "cell_type": "code",
            "execution_count": 45,
            "metadata": {},
            "outputs": [
                {
                    "data": {
                        "text/html": "<div>\n<style scoped>\n    .dataframe tbody tr th:only-of-type {\n        vertical-align: middle;\n    }\n\n    .dataframe tbody tr th {\n        vertical-align: top;\n    }\n\n    .dataframe thead th {\n        text-align: right;\n    }\n</style>\n<table border=\"1\" class=\"dataframe\">\n  <thead>\n    <tr style=\"text-align: right;\">\n      <th></th>\n      <th>Neighborhood</th>\n      <th>1st Most Common Venue</th>\n      <th>2nd Most Common Venue</th>\n      <th>3rd Most Common Venue</th>\n      <th>4th Most Common Venue</th>\n      <th>5th Most Common Venue</th>\n      <th>6th Most Common Venue</th>\n      <th>7th Most Common Venue</th>\n      <th>8th Most Common Venue</th>\n      <th>9th Most Common Venue</th>\n      <th>10th Most Common Venue</th>\n    </tr>\n  </thead>\n  <tbody>\n    <tr>\n      <th>0</th>\n      <td>Agincourt</td>\n      <td>Lounge</td>\n      <td>Latin American Restaurant</td>\n      <td>Clothing Store</td>\n      <td>Breakfast Spot</td>\n      <td>Doner Restaurant</td>\n      <td>Dim Sum Restaurant</td>\n      <td>Diner</td>\n      <td>Discount Store</td>\n      <td>Distribution Center</td>\n      <td>Dog Run</td>\n    </tr>\n    <tr>\n      <th>1</th>\n      <td>Alderwood,Long Branch</td>\n      <td>Pizza Place</td>\n      <td>Gym</td>\n      <td>Athletics &amp; Sports</td>\n      <td>Pharmacy</td>\n      <td>Pool</td>\n      <td>Pub</td>\n      <td>Sandwich Place</td>\n      <td>Skating Rink</td>\n      <td>Coffee Shop</td>\n      <td>Gas Station</td>\n    </tr>\n    <tr>\n      <th>2</th>\n      <td>Bathurst Manor,Wilson Heights,Downsview North</td>\n      <td>Coffee Shop</td>\n      <td>Bank</td>\n      <td>Gift Shop</td>\n      <td>Pharmacy</td>\n      <td>Sushi Restaurant</td>\n      <td>Middle Eastern Restaurant</td>\n      <td>Deli / Bodega</td>\n      <td>Fried Chicken Joint</td>\n      <td>Restaurant</td>\n      <td>Ice Cream Shop</td>\n    </tr>\n    <tr>\n      <th>3</th>\n      <td>Bayview Village</td>\n      <td>Chinese Restaurant</td>\n      <td>Caf\u00e9</td>\n      <td>Bank</td>\n      <td>Japanese Restaurant</td>\n      <td>Department Store</td>\n      <td>Dim Sum Restaurant</td>\n      <td>Diner</td>\n      <td>Discount Store</td>\n      <td>Distribution Center</td>\n      <td>Women's Store</td>\n    </tr>\n    <tr>\n      <th>4</th>\n      <td>Bedford Park,Lawrence Manor East</td>\n      <td>Sandwich Place</td>\n      <td>Coffee Shop</td>\n      <td>Italian Restaurant</td>\n      <td>Restaurant</td>\n      <td>Pub</td>\n      <td>Indian Restaurant</td>\n      <td>Caf\u00e9</td>\n      <td>Sushi Restaurant</td>\n      <td>Hobby Shop</td>\n      <td>Thai Restaurant</td>\n    </tr>\n  </tbody>\n</table>\n</div>",
                        "text/plain": "                                    Neighborhood 1st Most Common Venue  \\\n0                                      Agincourt                Lounge   \n1                          Alderwood,Long Branch           Pizza Place   \n2  Bathurst Manor,Wilson Heights,Downsview North           Coffee Shop   \n3                                Bayview Village    Chinese Restaurant   \n4               Bedford Park,Lawrence Manor East        Sandwich Place   \n\n       2nd Most Common Venue 3rd Most Common Venue 4th Most Common Venue  \\\n0  Latin American Restaurant        Clothing Store        Breakfast Spot   \n1                        Gym    Athletics & Sports              Pharmacy   \n2                       Bank             Gift Shop              Pharmacy   \n3                       Caf\u00e9                  Bank   Japanese Restaurant   \n4                Coffee Shop    Italian Restaurant            Restaurant   \n\n  5th Most Common Venue      6th Most Common Venue 7th Most Common Venue  \\\n0      Doner Restaurant         Dim Sum Restaurant                 Diner   \n1                  Pool                        Pub        Sandwich Place   \n2      Sushi Restaurant  Middle Eastern Restaurant         Deli / Bodega   \n3      Department Store         Dim Sum Restaurant                 Diner   \n4                   Pub          Indian Restaurant                  Caf\u00e9   \n\n  8th Most Common Venue 9th Most Common Venue 10th Most Common Venue  \n0        Discount Store   Distribution Center                Dog Run  \n1          Skating Rink           Coffee Shop            Gas Station  \n2   Fried Chicken Joint            Restaurant         Ice Cream Shop  \n3        Discount Store   Distribution Center          Women's Store  \n4      Sushi Restaurant            Hobby Shop        Thai Restaurant  "
                    },
                    "execution_count": 45,
                    "metadata": {},
                    "output_type": "execute_result"
                }
            ],
            "source": "neighborhoods_venues_sorted.head()"
        },
        {
            "cell_type": "markdown",
            "metadata": {},
            "source": "### Cluster Neighborhoods"
        },
        {
            "cell_type": "code",
            "execution_count": 48,
            "metadata": {},
            "outputs": [
                {
                    "data": {
                        "text/plain": "array([1, 1, 1, 1, 1, 1, 1, 1, 1, 1], dtype=int32)"
                    },
                    "execution_count": 48,
                    "metadata": {},
                    "output_type": "execute_result"
                }
            ],
            "source": "from sklearn.cluster import KMeans\n\n# set number of clusters\nkclusters = 5\n\ntoranto_grouped_clustering = toranto_grouped.drop('Neighborhood', 1)\n\n# run k-means clustering\nkmeans = KMeans(n_clusters=kclusters, random_state=0).fit(toranto_grouped_clustering)\n\n# check cluster labels generated for each row in the dataframe\nkmeans.labels_[0:10] "
        },
        {
            "cell_type": "code",
            "execution_count": 54,
            "metadata": {},
            "outputs": [
                {
                    "data": {
                        "text/html": "<div>\n<style scoped>\n    .dataframe tbody tr th:only-of-type {\n        vertical-align: middle;\n    }\n\n    .dataframe tbody tr th {\n        vertical-align: top;\n    }\n\n    .dataframe thead th {\n        text-align: right;\n    }\n</style>\n<table border=\"1\" class=\"dataframe\">\n  <thead>\n    <tr style=\"text-align: right;\">\n      <th></th>\n      <th>Postal</th>\n      <th>Borough</th>\n      <th>Neighborhood</th>\n      <th>Latitude</th>\n      <th>Longitude</th>\n      <th>Cluster Labels</th>\n      <th>1st Most Common Venue</th>\n      <th>2nd Most Common Venue</th>\n      <th>3rd Most Common Venue</th>\n      <th>4th Most Common Venue</th>\n      <th>5th Most Common Venue</th>\n      <th>6th Most Common Venue</th>\n      <th>7th Most Common Venue</th>\n      <th>8th Most Common Venue</th>\n      <th>9th Most Common Venue</th>\n      <th>10th Most Common Venue</th>\n    </tr>\n  </thead>\n  <tbody>\n    <tr>\n      <th>0</th>\n      <td>M3A</td>\n      <td>North York</td>\n      <td>Parkwoods</td>\n      <td>43.753259</td>\n      <td>-79.329656</td>\n      <td>0.0</td>\n      <td>Park</td>\n      <td>Food &amp; Drink Shop</td>\n      <td>Women's Store</td>\n      <td>Distribution Center</td>\n      <td>Department Store</td>\n      <td>Dessert Shop</td>\n      <td>Dim Sum Restaurant</td>\n      <td>Diner</td>\n      <td>Discount Store</td>\n      <td>Dog Run</td>\n    </tr>\n    <tr>\n      <th>1</th>\n      <td>M4A</td>\n      <td>North York</td>\n      <td>Victoria Village</td>\n      <td>43.725882</td>\n      <td>-79.315572</td>\n      <td>1.0</td>\n      <td>Portuguese Restaurant</td>\n      <td>Hockey Arena</td>\n      <td>Coffee Shop</td>\n      <td>Intersection</td>\n      <td>French Restaurant</td>\n      <td>Deli / Bodega</td>\n      <td>Department Store</td>\n      <td>Dessert Shop</td>\n      <td>Dim Sum Restaurant</td>\n      <td>Diner</td>\n    </tr>\n    <tr>\n      <th>2</th>\n      <td>M5A</td>\n      <td>Downtown Toronto</td>\n      <td>Regent Park,Harbourfront</td>\n      <td>43.654260</td>\n      <td>-79.360636</td>\n      <td>1.0</td>\n      <td>Coffee Shop</td>\n      <td>Park</td>\n      <td>Pub</td>\n      <td>Bakery</td>\n      <td>Caf\u00e9</td>\n      <td>Breakfast Spot</td>\n      <td>Theater</td>\n      <td>Yoga Studio</td>\n      <td>Electronics Store</td>\n      <td>Hotel</td>\n    </tr>\n    <tr>\n      <th>3</th>\n      <td>M6A</td>\n      <td>North York</td>\n      <td>Lawrence Manor,Lawrence Heights</td>\n      <td>43.718518</td>\n      <td>-79.464763</td>\n      <td>1.0</td>\n      <td>Furniture / Home Store</td>\n      <td>Clothing Store</td>\n      <td>Women's Store</td>\n      <td>Gift Shop</td>\n      <td>Boutique</td>\n      <td>Miscellaneous Shop</td>\n      <td>Event Space</td>\n      <td>Coffee Shop</td>\n      <td>Vietnamese Restaurant</td>\n      <td>Accessories Store</td>\n    </tr>\n    <tr>\n      <th>4</th>\n      <td>M7A</td>\n      <td>Downtown Toronto</td>\n      <td>Queen's Park,Ontario Provincial Government</td>\n      <td>43.662301</td>\n      <td>-79.389494</td>\n      <td>1.0</td>\n      <td>Coffee Shop</td>\n      <td>Sushi Restaurant</td>\n      <td>Diner</td>\n      <td>Discount Store</td>\n      <td>Park</td>\n      <td>Mexican Restaurant</td>\n      <td>Juice Bar</td>\n      <td>Japanese Restaurant</td>\n      <td>Italian Restaurant</td>\n      <td>Hobby Shop</td>\n    </tr>\n  </tbody>\n</table>\n</div>",
                        "text/plain": "  Postal           Borough                                Neighborhood  \\\n0    M3A        North York                                   Parkwoods   \n1    M4A        North York                            Victoria Village   \n2    M5A  Downtown Toronto                    Regent Park,Harbourfront   \n3    M6A        North York             Lawrence Manor,Lawrence Heights   \n4    M7A  Downtown Toronto  Queen's Park,Ontario Provincial Government   \n\n    Latitude  Longitude  Cluster Labels   1st Most Common Venue  \\\n0  43.753259 -79.329656             0.0                    Park   \n1  43.725882 -79.315572             1.0   Portuguese Restaurant   \n2  43.654260 -79.360636             1.0             Coffee Shop   \n3  43.718518 -79.464763             1.0  Furniture / Home Store   \n4  43.662301 -79.389494             1.0             Coffee Shop   \n\n  2nd Most Common Venue 3rd Most Common Venue 4th Most Common Venue  \\\n0     Food & Drink Shop         Women's Store   Distribution Center   \n1          Hockey Arena           Coffee Shop          Intersection   \n2                  Park                   Pub                Bakery   \n3        Clothing Store         Women's Store             Gift Shop   \n4      Sushi Restaurant                 Diner        Discount Store   \n\n  5th Most Common Venue 6th Most Common Venue 7th Most Common Venue  \\\n0      Department Store          Dessert Shop    Dim Sum Restaurant   \n1     French Restaurant         Deli / Bodega      Department Store   \n2                  Caf\u00e9        Breakfast Spot               Theater   \n3              Boutique    Miscellaneous Shop           Event Space   \n4                  Park    Mexican Restaurant             Juice Bar   \n\n  8th Most Common Venue  9th Most Common Venue 10th Most Common Venue  \n0                 Diner         Discount Store                Dog Run  \n1          Dessert Shop     Dim Sum Restaurant                  Diner  \n2           Yoga Studio      Electronics Store                  Hotel  \n3           Coffee Shop  Vietnamese Restaurant      Accessories Store  \n4   Japanese Restaurant     Italian Restaurant             Hobby Shop  "
                    },
                    "execution_count": 54,
                    "metadata": {},
                    "output_type": "execute_result"
                }
            ],
            "source": "# add clustering labels\n#neighborhoods_venues_sorted.insert(0, 'Cluster Labels', kmeans.labels_)\n\ntoranto_merged = Df_loc\n\n# merge toronto_grouped with toronto_data to add latitude/longitude for each neighborhood\ntoranto_merged = toranto_merged.join(neighborhoods_venues_sorted.set_index('Neighborhood'), on='Neighborhood')\n\ntoranto_merged.head() # check the last columns!"
        },
        {
            "cell_type": "code",
            "execution_count": 55,
            "metadata": {},
            "outputs": [
                {
                    "name": "stdout",
                    "output_type": "stream",
                    "text": "Solving environment: done\n\n## Package Plan ##\n\n  environment location: /opt/conda/envs/Python36\n\n  added / updated specs: \n    - geopy\n\n\nThe following packages will be downloaded:\n\n    package                    |            build\n    ---------------------------|-----------------\n    geopy-1.21.0               |             py_0          58 KB  conda-forge\n    geographiclib-1.50         |             py_0          34 KB  conda-forge\n    ------------------------------------------------------------\n                                           Total:          92 KB\n\nThe following NEW packages will be INSTALLED:\n\n    geographiclib: 1.50-py_0   conda-forge\n    geopy:         1.21.0-py_0 conda-forge\n\n\nDownloading and Extracting Packages\ngeopy-1.21.0         | 58 KB     | ##################################### | 100% \ngeographiclib-1.50   | 34 KB     | ##################################### | 100% \nPreparing transaction: done\nVerifying transaction: done\nExecuting transaction: done\n"
                }
            ],
            "source": "#!conda install -c conda-forge geopy --yes # uncomment this line if you haven't completed the Foursquare API lab\nfrom geopy.geocoders import Nominatim"
        },
        {
            "cell_type": "code",
            "execution_count": 64,
            "metadata": {},
            "outputs": [
                {
                    "name": "stdout",
                    "output_type": "stream",
                    "text": "Solving environment: done\n\n## Package Plan ##\n\n  environment location: /opt/conda/envs/Python36\n\n  added / updated specs: \n    - folium=0.5.0\n\n\nThe following packages will be downloaded:\n\n    package                    |            build\n    ---------------------------|-----------------\n    branca-0.4.0               |             py_0          26 KB  conda-forge\n    altair-4.1.0               |             py_1         614 KB  conda-forge\n    vincent-0.4.4              |             py_1          28 KB  conda-forge\n    folium-0.5.0               |             py_0          45 KB  conda-forge\n    ------------------------------------------------------------\n                                           Total:         713 KB\n\nThe following NEW packages will be INSTALLED:\n\n    altair:  4.1.0-py_1 conda-forge\n    branca:  0.4.0-py_0 conda-forge\n    folium:  0.5.0-py_0 conda-forge\n    vincent: 0.4.4-py_1 conda-forge\n\n\nDownloading and Extracting Packages\nbranca-0.4.0         | 26 KB     | ##################################### | 100% \naltair-4.1.0         | 614 KB    | ##################################### | 100% \nvincent-0.4.4        | 28 KB     | ##################################### | 100% \nfolium-0.5.0         | 45 KB     | ##################################### | 100% \nPreparing transaction: done\nVerifying transaction: done\nExecuting transaction: done\n"
                }
            ],
            "source": "!conda install -c conda-forge folium=0.5.0 --yes"
        },
        {
            "cell_type": "code",
            "execution_count": 65,
            "metadata": {},
            "outputs": [
                {
                    "ename": "TypeError",
                    "evalue": "list indices must be integers or slices, not float",
                    "output_type": "error",
                    "traceback": [
                        "\u001b[0;31m---------------------------------------------------------------------------\u001b[0m",
                        "\u001b[0;31mTypeError\u001b[0m                                 Traceback (most recent call last)",
                        "\u001b[0;32m<ipython-input-65-9f610bb8b31b>\u001b[0m in \u001b[0;36m<module>\u001b[0;34m\u001b[0m\n\u001b[1;32m     26\u001b[0m         \u001b[0mradius\u001b[0m\u001b[0;34m=\u001b[0m\u001b[0;36m5\u001b[0m\u001b[0;34m,\u001b[0m\u001b[0;34m\u001b[0m\u001b[0;34m\u001b[0m\u001b[0m\n\u001b[1;32m     27\u001b[0m         \u001b[0mpopup\u001b[0m\u001b[0;34m=\u001b[0m\u001b[0mlabel\u001b[0m\u001b[0;34m,\u001b[0m\u001b[0;34m\u001b[0m\u001b[0;34m\u001b[0m\u001b[0m\n\u001b[0;32m---> 28\u001b[0;31m         \u001b[0mcolor\u001b[0m\u001b[0;34m=\u001b[0m\u001b[0mrainbow\u001b[0m\u001b[0;34m[\u001b[0m\u001b[0mcluster\u001b[0m\u001b[0;34m-\u001b[0m\u001b[0;36m1\u001b[0m\u001b[0;34m]\u001b[0m\u001b[0;34m,\u001b[0m\u001b[0;34m\u001b[0m\u001b[0;34m\u001b[0m\u001b[0m\n\u001b[0m\u001b[1;32m     29\u001b[0m         \u001b[0mfill\u001b[0m\u001b[0;34m=\u001b[0m\u001b[0;32mTrue\u001b[0m\u001b[0;34m,\u001b[0m\u001b[0;34m\u001b[0m\u001b[0;34m\u001b[0m\u001b[0m\n\u001b[1;32m     30\u001b[0m         \u001b[0mfill_color\u001b[0m\u001b[0;34m=\u001b[0m\u001b[0mrainbow\u001b[0m\u001b[0;34m[\u001b[0m\u001b[0mcluster\u001b[0m\u001b[0;34m-\u001b[0m\u001b[0;36m1\u001b[0m\u001b[0;34m]\u001b[0m\u001b[0;34m,\u001b[0m\u001b[0;34m\u001b[0m\u001b[0;34m\u001b[0m\u001b[0m\n",
                        "\u001b[0;31mTypeError\u001b[0m: list indices must be integers or slices, not float"
                    ]
                }
            ],
            "source": "# create map\nimport folium\nimport matplotlib.cm as cm\nimport matplotlib.colors as colors\nfrom geopy.geocoders import Nominatim\n#lat,long of torans ato\naddress = 'Toranto, CA'\n\ngeolocator = Nominatim(user_agent=\"ny_explorer\")\nlocation = geolocator.geocode(address)\nlatitude = location.latitude\nlongitude = location.longitude\n\n# set color scheme for the clusters\nx = np.arange(kclusters)\nys = [i + x + (i*x)**2 for i in range(kclusters)]\ncolors_array = cm.rainbow(np.linspace(0, 1, len(ys)))\nrainbow = [colors.rgb2hex(i) for i in colors_array]\n\n# add markers to the map\nmarkers_colors = []\nfor lat, lon, poi, cluster in zip(toranto_merged['Latitude'], toranto_merged['Longitude'], toranto_merged['Neighborhood'], toranto_merged['Cluster Labels'].astype('int')):\n    label = folium.Popup(str(poi) + ' Cluster ' + str(cluster), parse_html=True)\n    folium.CircleMarker(\n        [lat, lon],\n        radius=5,\n        popup=label,\n        color=rainbow[cluster-1],\n        fill=True,\n        fill_color=rainbow[cluster-1],\n        fill_opacity=0.7).add_to(map_clusters)\n       \nmap_clusters"
        },
        {
            "cell_type": "code",
            "execution_count": 68,
            "metadata": {},
            "outputs": [
                {
                    "data": {
                        "text/plain": "0      0.0\n1      1.0\n2      1.0\n3      1.0\n4      1.0\n5      NaN\n6      1.0\n7      1.0\n8      1.0\n9      1.0\n10     1.0\n11     NaN\n12     1.0\n13     1.0\n14     1.0\n15     1.0\n16     4.0\n17     1.0\n18     1.0\n19     1.0\n20     1.0\n21     0.0\n22     1.0\n23     1.0\n24     1.0\n25     1.0\n26     1.0\n27     1.0\n28     1.0\n29     1.0\n      ... \n73     1.0\n74     1.0\n75     1.0\n76     1.0\n77     1.0\n78     1.0\n79     1.0\n80     1.0\n81     1.0\n82     1.0\n83     4.0\n84     1.0\n85     0.0\n86     1.0\n87     1.0\n88     1.0\n89     1.0\n90     1.0\n91     0.0\n92     1.0\n93     1.0\n94     1.0\n95     NaN\n96     1.0\n97     1.0\n98     0.0\n99     1.0\n100    1.0\n101    1.0\n102    1.0\nName: Cluster Labels, Length: 103, dtype: float64"
                    },
                    "execution_count": 68,
                    "metadata": {},
                    "output_type": "execute_result"
                }
            ],
            "source": "toranto_merged['Cluster Labels']"
        }
    ],
    "metadata": {
        "kernelspec": {
            "display_name": "Python 3.6",
            "language": "python",
            "name": "python3"
        },
        "language_info": {
            "codemirror_mode": {
                "name": "ipython",
                "version": 3
            },
            "file_extension": ".py",
            "mimetype": "text/x-python",
            "name": "python",
            "nbconvert_exporter": "python",
            "pygments_lexer": "ipython3",
            "version": "3.6.9"
        }
    },
    "nbformat": 4,
    "nbformat_minor": 1
}